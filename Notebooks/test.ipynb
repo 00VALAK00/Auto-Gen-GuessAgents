{
 "cells": [
  {
   "cell_type": "code",
   "execution_count": 15,
   "id": "2c042435",
   "metadata": {},
   "outputs": [],
   "source": [
    "import sys\n",
    "import os \n",
    "\n",
    "cur_dir = os.path.curdir  # This is './'\n",
    "sys.path.insert(0, os.path.abspath(os.path.pardir))  "
   ]
  },
  {
   "cell_type": "code",
   "execution_count": 16,
   "id": "641aa493",
   "metadata": {},
   "outputs": [
    {
     "data": {
      "text/plain": [
       "['c:\\\\Users\\\\Iheb\\\\Desktop\\\\projects\\\\Agentic',\n",
       " 'c:\\\\Users\\\\Iheb\\\\Desktop\\\\projects\\\\Agentic',\n",
       " 'c:\\\\Users\\\\Iheb\\\\Desktop\\\\projects\\\\Agentic',\n",
       " 'C:\\\\Users\\\\Iheb\\\\AppData\\\\Roaming\\\\uv\\\\python\\\\cpython-3.12.11-windows-x86_64-none\\\\python312.zip',\n",
       " 'C:\\\\Users\\\\Iheb\\\\AppData\\\\Roaming\\\\uv\\\\python\\\\cpython-3.12.11-windows-x86_64-none\\\\DLLs',\n",
       " 'C:\\\\Users\\\\Iheb\\\\AppData\\\\Roaming\\\\uv\\\\python\\\\cpython-3.12.11-windows-x86_64-none\\\\Lib',\n",
       " 'C:\\\\Users\\\\Iheb\\\\AppData\\\\Roaming\\\\uv\\\\python\\\\cpython-3.12.11-windows-x86_64-none',\n",
       " 'c:\\\\Users\\\\Iheb\\\\Desktop\\\\projects\\\\Agentic\\\\.venv',\n",
       " '',\n",
       " 'c:\\\\Users\\\\Iheb\\\\Desktop\\\\projects\\\\Agentic\\\\.venv\\\\Lib\\\\site-packages',\n",
       " 'c:\\\\Users\\\\Iheb\\\\Desktop\\\\projects\\\\Agentic\\\\.venv\\\\Lib\\\\site-packages\\\\win32',\n",
       " 'c:\\\\Users\\\\Iheb\\\\Desktop\\\\projects\\\\Agentic\\\\.venv\\\\Lib\\\\site-packages\\\\win32\\\\lib',\n",
       " 'c:\\\\Users\\\\Iheb\\\\Desktop\\\\projects\\\\Agentic\\\\.venv\\\\Lib\\\\site-packages\\\\Pythonwin']"
      ]
     },
     "execution_count": 16,
     "metadata": {},
     "output_type": "execute_result"
    }
   ],
   "source": [
    "sys.path"
   ]
  },
  {
   "cell_type": "code",
   "execution_count": null,
   "id": "b5ab59f8",
   "metadata": {},
   "outputs": [
    {
     "name": "stderr",
     "output_type": "stream",
     "text": [
      "2025-07-06 20:22:52.745 Thread 'MainThread': missing ScriptRunContext! This warning can be ignored when running in bare mode.\n",
      "2025-07-06 20:22:52.746 Thread 'MainThread': missing ScriptRunContext! This warning can be ignored when running in bare mode.\n",
      "2025-07-06 20:22:52.746 Thread 'MainThread': missing ScriptRunContext! This warning can be ignored when running in bare mode.\n"
     ]
    },
    {
     "name": "stdout",
     "output_type": "stream",
     "text": [
      "0 \n",
      "\n",
      "[{'content': 'tell me the rules I am ready!', 'role': 'assistant'}]\n"
     ]
    },
    {
     "name": "stderr",
     "output_type": "stream",
     "text": [
      "2025-07-06 20:22:54.199 Thread 'MainThread': missing ScriptRunContext! This warning can be ignored when running in bare mode.\n",
      "2025-07-06 20:22:54.200 Thread 'MainThread': missing ScriptRunContext! This warning can be ignored when running in bare mode.\n",
      "2025-07-06 20:22:54.201 Thread 'MainThread': missing ScriptRunContext! This warning can be ignored when running in bare mode.\n",
      "2025-07-06 20:22:54.201 Thread 'MainThread': missing ScriptRunContext! This warning can be ignored when running in bare mode.\n",
      "2025-07-06 20:22:54.201 Thread 'MainThread': missing ScriptRunContext! This warning can be ignored when running in bare mode.\n"
     ]
    },
    {
     "name": "stdout",
     "output_type": "stream",
     "text": [
      "1 \n",
      "\n",
      "[{'content': 'tell me the rules I am ready!', 'role': 'assistant'}, {'content': \"What's my goal? What game are we playing? Give me the objective so I can start planning my strategy.\", 'refusal': None, 'role': 'assistant', 'annotations': None, 'audio': None, 'function_call': None, 'tool_calls': None}]\n",
      "\u001b[31m\n",
      ">>>>>>>> USING AUTO REPLY...\u001b[0m\n"
     ]
    },
    {
     "ename": "TypeError",
     "evalue": "'NoneType' object is not iterable",
     "output_type": "error",
     "traceback": [
      "\u001b[31m---------------------------------------------------------------------------\u001b[39m",
      "\u001b[31mTypeError\u001b[39m                                 Traceback (most recent call last)",
      "\u001b[36mCell\u001b[39m\u001b[36m \u001b[39m\u001b[32mIn[19]\u001b[39m\u001b[32m, line 31\u001b[39m\n\u001b[32m     26\u001b[39m         \u001b[38;5;28;01myield\u001b[39;00m result\n\u001b[32m     29\u001b[39m st.title(\u001b[33m\"\u001b[39m\u001b[33mAutoGen Demo\u001b[39m\u001b[33m\"\u001b[39m)\n\u001b[32m---> \u001b[39m\u001b[32m31\u001b[39m \u001b[38;5;28;43;01mfor\u001b[39;49;00m\u001b[43m \u001b[49m\u001b[43mresult\u001b[49m\u001b[43m \u001b[49m\u001b[38;5;129;43;01min\u001b[39;49;00m\u001b[43m \u001b[49m\u001b[43mstart_conversation\u001b[49m\u001b[43m(\u001b[49m\u001b[43m)\u001b[49m\u001b[43m:\u001b[49m\n\u001b[32m     32\u001b[39m \u001b[43m    \u001b[49m\u001b[43mst\u001b[49m\u001b[43m.\u001b[49m\u001b[43mchat_message\u001b[49m\u001b[43m(\u001b[49m\u001b[43mresult\u001b[49m\u001b[43m[\u001b[49m\u001b[33;43m\"\u001b[39;49m\u001b[33;43mrole\u001b[39;49m\u001b[33;43m\"\u001b[39;49m\u001b[43m]\u001b[49m\u001b[43m)\u001b[49m\u001b[43m.\u001b[49m\u001b[43mwrite\u001b[49m\u001b[43m(\u001b[49m\u001b[43mresult\u001b[49m\u001b[43m[\u001b[49m\u001b[33;43m\"\u001b[39;49m\u001b[33;43mcontent\u001b[39;49m\u001b[33;43m\"\u001b[39;49m\u001b[43m]\u001b[49m\u001b[43m)\u001b[49m\n\u001b[32m     37\u001b[39m \u001b[38;5;66;03m# clear memory\u001b[39;00m\n",
      "\u001b[36mCell\u001b[39m\u001b[36m \u001b[39m\u001b[32mIn[19]\u001b[39m\u001b[32m, line 21\u001b[39m, in \u001b[36mstart_conversation\u001b[39m\u001b[34m(message, turns)\u001b[39m\n\u001b[32m     19\u001b[39m \u001b[38;5;28mprint\u001b[39m(\u001b[33mf\u001b[39m\u001b[33m\"\u001b[39m\u001b[38;5;132;01m{\u001b[39;00mi\u001b[38;5;132;01m}\u001b[39;00m\u001b[33m \u001b[39m\u001b[38;5;130;01m\\n\u001b[39;00m\u001b[33m\"\u001b[39m)\n\u001b[32m     20\u001b[39m \u001b[38;5;28mprint\u001b[39m(messages)\n\u001b[32m---> \u001b[39m\u001b[32m21\u001b[39m result = \u001b[43msender\u001b[49m\u001b[43m.\u001b[49m\u001b[43mgenerate_reply\u001b[49m\u001b[43m(\u001b[49m\u001b[43mmessages\u001b[49m\u001b[43m=\u001b[49m\u001b[43m \u001b[49m\u001b[43mmessages\u001b[49m\u001b[43m)\u001b[49m\n\u001b[32m     23\u001b[39m sender, receiver = receiver, sender\n\u001b[32m     25\u001b[39m messages.append(result)\n",
      "\u001b[36mFile \u001b[39m\u001b[32mc:\\Users\\Iheb\\Desktop\\projects\\Agentic\\.venv\\Lib\\site-packages\\autogen\\agentchat\\conversable_agent.py:2824\u001b[39m, in \u001b[36mConversableAgent.generate_reply\u001b[39m\u001b[34m(self, messages, sender, **kwargs)\u001b[39m\n\u001b[32m   2822\u001b[39m     \u001b[38;5;28;01mcontinue\u001b[39;00m\n\u001b[32m   2823\u001b[39m \u001b[38;5;28;01mif\u001b[39;00m \u001b[38;5;28mself\u001b[39m._match_trigger(reply_func_tuple[\u001b[33m\"\u001b[39m\u001b[33mtrigger\u001b[39m\u001b[33m\"\u001b[39m], sender):\n\u001b[32m-> \u001b[39m\u001b[32m2824\u001b[39m     final, reply = \u001b[43mreply_func\u001b[49m\u001b[43m(\u001b[49m\u001b[38;5;28;43mself\u001b[39;49m\u001b[43m,\u001b[49m\u001b[43m \u001b[49m\u001b[43mmessages\u001b[49m\u001b[43m=\u001b[49m\u001b[43mmessages\u001b[49m\u001b[43m,\u001b[49m\u001b[43m \u001b[49m\u001b[43msender\u001b[49m\u001b[43m=\u001b[49m\u001b[43msender\u001b[49m\u001b[43m,\u001b[49m\u001b[43m \u001b[49m\u001b[43mconfig\u001b[49m\u001b[43m=\u001b[49m\u001b[43mreply_func_tuple\u001b[49m\u001b[43m[\u001b[49m\u001b[33;43m\"\u001b[39;49m\u001b[33;43mconfig\u001b[39;49m\u001b[33;43m\"\u001b[39;49m\u001b[43m]\u001b[49m\u001b[43m)\u001b[49m\n\u001b[32m   2825\u001b[39m     \u001b[38;5;28;01mif\u001b[39;00m logging_enabled():\n\u001b[32m   2826\u001b[39m         log_event(\n\u001b[32m   2827\u001b[39m             \u001b[38;5;28mself\u001b[39m,\n\u001b[32m   2828\u001b[39m             \u001b[33m\"\u001b[39m\u001b[33mreply_func_executed\u001b[39m\u001b[33m\"\u001b[39m,\n\u001b[32m   (...)\u001b[39m\u001b[32m   2832\u001b[39m             reply=reply,\n\u001b[32m   2833\u001b[39m         )\n",
      "\u001b[36mFile \u001b[39m\u001b[32mc:\\Users\\Iheb\\Desktop\\projects\\Agentic\\.venv\\Lib\\site-packages\\autogen\\agentchat\\conversable_agent.py:2400\u001b[39m, in \u001b[36mConversableAgent.generate_tool_calls_reply\u001b[39m\u001b[34m(self, messages, sender, config)\u001b[39m\n\u001b[32m   2398\u001b[39m message = messages[-\u001b[32m1\u001b[39m]\n\u001b[32m   2399\u001b[39m tool_returns = []\n\u001b[32m-> \u001b[39m\u001b[32m2400\u001b[39m \u001b[43m\u001b[49m\u001b[38;5;28;43;01mfor\u001b[39;49;00m\u001b[43m \u001b[49m\u001b[43mtool_call\u001b[49m\u001b[43m \u001b[49m\u001b[38;5;129;43;01min\u001b[39;49;00m\u001b[43m \u001b[49m\u001b[43mmessage\u001b[49m\u001b[43m.\u001b[49m\u001b[43mget\u001b[49m\u001b[43m(\u001b[49m\u001b[33;43m\"\u001b[39;49m\u001b[33;43mtool_calls\u001b[39;49m\u001b[33;43m\"\u001b[39;49m\u001b[43m,\u001b[49m\u001b[43m \u001b[49m\u001b[43m[\u001b[49m\u001b[43m]\u001b[49m\u001b[43m)\u001b[49m\u001b[43m:\u001b[49m\n\u001b[32m   2401\u001b[39m \u001b[43m    \u001b[49m\u001b[43mfunction_call\u001b[49m\u001b[43m \u001b[49m\u001b[43m=\u001b[49m\u001b[43m \u001b[49m\u001b[43mtool_call\u001b[49m\u001b[43m.\u001b[49m\u001b[43mget\u001b[49m\u001b[43m(\u001b[49m\u001b[33;43m\"\u001b[39;49m\u001b[33;43mfunction\u001b[39;49m\u001b[33;43m\"\u001b[39;49m\u001b[43m,\u001b[49m\u001b[43m \u001b[49m\u001b[43m{\u001b[49m\u001b[43m}\u001b[49m\u001b[43m)\u001b[49m\n\u001b[32m   2402\u001b[39m \u001b[43m    \u001b[49m\u001b[43mtool_call_id\u001b[49m\u001b[43m \u001b[49m\u001b[43m=\u001b[49m\u001b[43m \u001b[49m\u001b[43mtool_call\u001b[49m\u001b[43m.\u001b[49m\u001b[43mget\u001b[49m\u001b[43m(\u001b[49m\u001b[33;43m\"\u001b[39;49m\u001b[33;43mid\u001b[39;49m\u001b[33;43m\"\u001b[39;49m\u001b[43m,\u001b[49m\u001b[43m \u001b[49m\u001b[38;5;28;43;01mNone\u001b[39;49;00m\u001b[43m)\u001b[49m\n",
      "\u001b[31mTypeError\u001b[39m: 'NoneType' object is not iterable"
     ]
    }
   ],
   "source": [
    "import streamlit as st\n",
    "from scripts.guess_agents import player,gambler\n",
    "import torch\n",
    "import gc\n",
    "\n",
    "# def start_conversation(message= \"tell me the rules I am ready!\"):\n",
    "\n",
    "#     yield player.initiate_chat(\n",
    "#         recipient= gambler,\n",
    "#         message=message,  \n",
    "#         max_turns=3\n",
    "#     ) \n",
    "\n",
    "def start_conversation(message=\"tell me the rules I am ready!\", turns=3):\n",
    "    messages= [{\"content\": message, \"role\": \"assistant\"}]\n",
    "    sender = player\n",
    "    receiver = gambler\n",
    "    for i in range(turns):\n",
    "        print(f\"{i} \\n\")\n",
    "        print(messages)\n",
    "        result = sender.generate_reply(messages= messages)\n",
    "        \n",
    "        sender, receiver = receiver, sender\n",
    "\n",
    "        messages.append({k:v for k,v in result.items() if k in [\"content\",\"role\"]})\n",
    "        yield result\n",
    "        \n",
    "\n",
    "st.title(\"AutoGen Demo\")\n",
    "\n",
    "for result in start_conversation():\n",
    "    st.chat_message(result[\"role\"]).write(result[\"content\"])\n",
    "\n",
    "\n",
    "\n",
    "\n",
    "# clear memory\n",
    "torch.cuda.empty_cache()\n",
    "gc.collect()\n"
   ]
  },
  {
   "cell_type": "code",
   "execution_count": 12,
   "id": "f09ebb9e",
   "metadata": {},
   "outputs": [],
   "source": [
    "messages = [{\"content\": \"hi\", \"role\": \"assistant\"},{\"content\": \"what is up?\", \"role\": \"assistant\"}]\n"
   ]
  },
  {
   "cell_type": "code",
   "execution_count": 23,
   "id": "9bb71dba",
   "metadata": {},
   "outputs": [
    {
     "name": "stdout",
     "output_type": "stream",
     "text": [
      "\u001b[31m\n",
      ">>>>>>>> USING AUTO REPLY...\u001b[0m\n"
     ]
    },
    {
     "data": {
      "text/plain": [
       "{'content': \"Let's begin the game.\\n\\n**Game Settings:**\\n\\n* Range: 1 to 100 (inclusive)\\n* Starting amount owed to you: $5\\n* Maximum rounds: 10\\n* If you guess correctly within the first 5 rounds, you keep the money currently owed to you.\\n* If you guess incorrectly after round 5 or run out of attempts, you owe me $5.\\n\\nTo start, I will randomly generate a number between 1 and 100. You can begin guessing now!\\n\\nWhat's your first guess?\",\n",
       " 'refusal': None,\n",
       " 'role': 'assistant',\n",
       " 'annotations': None,\n",
       " 'audio': None,\n",
       " 'function_call': None,\n",
       " 'tool_calls': None}"
      ]
     },
     "execution_count": 23,
     "metadata": {},
     "output_type": "execute_result"
    }
   ],
   "source": [
    "from scripts.guess_agents import gambler\n",
    "\n",
    "gambler.generate_reply(recipient = None,\n",
    "                        messages= [{'content': 'tell me the rules I am ready!', 'role': 'assistant'}, {'content': \"What's my goal? What game are we playing? Give me the objective so I can start planning my strategy.\", 'refusal': None, 'role': 'assistant'}]\n",
    ")"
   ]
  },
  {
   "cell_type": "code",
   "execution_count": null,
   "id": "de8cf2c5",
   "metadata": {},
   "outputs": [],
   "source": []
  },
  {
   "cell_type": "code",
   "execution_count": null,
   "id": "f9a1fb33",
   "metadata": {},
   "outputs": [],
   "source": []
  },
  {
   "cell_type": "code",
   "execution_count": null,
   "id": "ea89427b",
   "metadata": {},
   "outputs": [],
   "source": []
  },
  {
   "cell_type": "code",
   "execution_count": null,
   "id": "26721f57",
   "metadata": {},
   "outputs": [],
   "source": []
  }
 ],
 "metadata": {
  "kernelspec": {
   "display_name": "agentic",
   "language": "python",
   "name": "python3"
  },
  "language_info": {
   "codemirror_mode": {
    "name": "ipython",
    "version": 3
   },
   "file_extension": ".py",
   "mimetype": "text/x-python",
   "name": "python",
   "nbconvert_exporter": "python",
   "pygments_lexer": "ipython3",
   "version": "3.12.11"
  }
 },
 "nbformat": 4,
 "nbformat_minor": 5
}
